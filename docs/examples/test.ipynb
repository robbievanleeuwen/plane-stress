{
 "cells": [
  {
   "cell_type": "markdown",
   "id": "a1ec20b5-67e4-434e-acde-20930db01640",
   "metadata": {},
   "source": [
    "# Test Example"
   ]
  },
  {
   "cell_type": "code",
   "execution_count": null,
   "id": "ddb3c757-18a2-439c-88d7-e745a8c089f1",
   "metadata": {},
   "outputs": [],
   "source": [
    "import numpy as np\n",
    "from rich.pretty import pprint\n",
    "\n",
    "import planestress.pre.library as ps_lib\n",
    "from planestress.analysis.plane_stress import PlaneStress\n",
    "from planestress.pre.load_case import LoadCase\n",
    "from planestress.pre.material import Material"
   ]
  },
  {
   "cell_type": "code",
   "execution_count": null,
   "id": "7ff5d93f-26b2-4020-a2d9-c0b7236bfab0",
   "metadata": {},
   "outputs": [],
   "source": [
    "d = 300\n",
    "b = 250\n",
    "h_r = 25\n",
    "t = 16\n",
    "u = 0.05"
   ]
  },
  {
   "cell_type": "code",
   "execution_count": null,
   "id": "dd544d96-0d91-4671-942f-55b61e723016",
   "metadata": {},
   "outputs": [],
   "source": [
    "steel = ps_lib.steel(thickness=t)\n",
    "rect = ps_lib.rectangle(0.5 * d, 0.5 * b, steel)\n",
    "hole = ps_lib.circle(2 * h_r, n=32)\n",
    "geom = rect - hole\n",
    "# geom.plot_geometry(labels=[\"points\", \"facets\"])"
   ]
  },
  {
   "cell_type": "code",
   "execution_count": null,
   "id": "b13fabea-aae6-4e11-8dae-4555bfd40afb",
   "metadata": {},
   "outputs": [],
   "source": [
    "lhs_support = geom.add_line_support((0, h_r), (0, 0.5 * d), \"x\", 0.0)\n",
    "bot_support = geom.add_line_support((25, 0), (125, 0), \"y\", 0.0)\n",
    "top_disp = geom.add_line_support((0, 0.5 * d), (0.5 * b, 0.5 * d), \"y\", u)\n",
    "lc = LoadCase([lhs_support, bot_support, top_disp])"
   ]
  },
  {
   "cell_type": "code",
   "execution_count": null,
   "id": "e09e630c-d1ec-498a-8290-0f398e00ee35",
   "metadata": {},
   "outputs": [],
   "source": [
    "geom.create_mesh(100)\n",
    "geom.plot_mesh(nd_markers=True, seg_markers=True)"
   ]
  },
  {
   "cell_type": "code",
   "execution_count": null,
   "id": "dc0e76bb-c241-4bb3-8d1c-11c1c8e07c49",
   "metadata": {},
   "outputs": [],
   "source": [
    "ps = PlaneStress(geom, [lc])\n",
    "results_list = ps.solve()\n",
    "res = results_list[0]"
   ]
  },
  {
   "cell_type": "code",
   "execution_count": null,
   "id": "a371acf6-e58e-40d9-b9e8-e680b6a714e7",
   "metadata": {},
   "outputs": [],
   "source": [
    "ps.plot_deformed_shape(res, 500)"
   ]
  },
  {
   "cell_type": "code",
   "execution_count": null,
   "id": "df6f9d6a-8550-40eb-bcc4-2f83f50c4f50",
   "metadata": {},
   "outputs": [],
   "source": [
    "ps.plot_displacement_contour(res, \"x\", normalize=False, cmap=\"viridis\")\n",
    "ps.plot_displacement_contour(res, \"y\", normalize=False, cmap=\"viridis\")\n",
    "ps.plot_displacement_contour(res, \"xy\", normalize=False, cmap=\"viridis\")"
   ]
  },
  {
   "cell_type": "code",
   "execution_count": null,
   "id": "5df6a4c0-00c9-4f2d-ba9c-384852791454",
   "metadata": {},
   "outputs": [],
   "source": [
    "ps.plot_stress(res, \"xx\")\n",
    "ps.plot_stress(res, \"yy\", normalize=False, cmap=\"viridis\")\n",
    "ps.plot_stress(res, \"xy\")"
   ]
  }
 ],
 "metadata": {
  "kernelspec": {
   "display_name": "Python 3 (ipykernel)",
   "language": "python",
   "name": "python3"
  },
  "language_info": {
   "codemirror_mode": {
    "name": "ipython",
    "version": 3
   },
   "file_extension": ".py",
   "mimetype": "text/x-python",
   "name": "python",
   "nbconvert_exporter": "python",
   "pygments_lexer": "ipython3",
   "version": "3.10.12"
  }
 },
 "nbformat": 4,
 "nbformat_minor": 5
}
