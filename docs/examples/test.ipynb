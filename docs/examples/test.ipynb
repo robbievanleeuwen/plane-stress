{
 "cells": [
  {
   "cell_type": "markdown",
   "id": "0",
   "metadata": {},
   "source": [
    "# Test Example"
   ]
  },
  {
   "cell_type": "code",
   "execution_count": null,
   "id": "1",
   "metadata": {},
   "outputs": [],
   "source": [
    "from planestress.analysis import PlaneStress\n",
    "from planestress.pre import AnalysisCase\n",
    "from planestress.pre.boundary_condition import LineLoad, LineSupport\n",
    "from planestress.pre.library import circle, rectangle, steel_material"
   ]
  },
  {
   "cell_type": "code",
   "execution_count": null,
   "id": "2",
   "metadata": {},
   "outputs": [],
   "source": [
    "d = 300\n",
    "b = 250\n",
    "h_r = 25\n",
    "t = 16\n",
    "sig = 100\n",
    "w = sig * t"
   ]
  },
  {
   "cell_type": "code",
   "execution_count": null,
   "id": "3",
   "metadata": {},
   "outputs": [],
   "source": [
    "steel = steel_material(thickness=t)\n",
    "rect = rectangle(0.5 * d, 0.5 * b, material=steel)\n",
    "hole = circle(h_r, n=64)\n",
    "geom = rect - hole\n",
    "geom.plot_geometry()"
   ]
  },
  {
   "cell_type": "code",
   "execution_count": null,
   "id": "4",
   "metadata": {},
   "outputs": [],
   "source": [
    "lhs_support = LineSupport((0, h_r), (0, 0.5 * d), \"x\", 0.0)\n",
    "bot_support = LineSupport((25, 0), (125, 0), \"y\", 0.0)\n",
    "load = LineLoad((0, 0.5 * d), (0.5 * b, 0.5 * d), \"y\", w)\n",
    "case = AnalysisCase([lhs_support, bot_support, load])"
   ]
  },
  {
   "cell_type": "code",
   "execution_count": null,
   "id": "5",
   "metadata": {},
   "outputs": [],
   "source": [
    "geom.create_mesh(mesh_sizes=10, mesh_order=2)\n",
    "geom.plot_mesh()"
   ]
  },
  {
   "cell_type": "code",
   "execution_count": null,
   "id": "6",
   "metadata": {},
   "outputs": [],
   "source": [
    "ps = PlaneStress(geom, [case])\n",
    "results_list = ps.solve()\n",
    "res = results_list[0]"
   ]
  },
  {
   "cell_type": "code",
   "execution_count": null,
   "id": "7",
   "metadata": {},
   "outputs": [],
   "source": [
    "res.plot_deformed_shape(200)"
   ]
  },
  {
   "cell_type": "code",
   "execution_count": null,
   "id": "8",
   "metadata": {},
   "outputs": [],
   "source": [
    "res.plot_displacement_contour(\"x\", normalize=False, colormap=\"viridis\")\n",
    "res.plot_displacement_contour(\"y\", normalize=False, colormap=\"viridis\", contours=True)\n",
    "res.plot_displacement_contour(\"xy\", normalize=False, colormap=\"viridis\")"
   ]
  },
  {
   "cell_type": "code",
   "execution_count": null,
   "id": "9",
   "metadata": {},
   "outputs": [],
   "source": [
    "res.plot_stress(\"xx\")\n",
    "res.plot_stress(\n",
    "    \"yy\", normalize=False, colormap=\"viridis\", colorbar_format=\"{x:.2f}\", num_levels=15\n",
    ")\n",
    "res.plot_stress(\"xy\", contours=True)"
   ]
  },
  {
   "cell_type": "code",
   "execution_count": null,
   "id": "10",
   "metadata": {},
   "outputs": [],
   "source": [
    "res.plot_principal_stress_vectors(\n",
    "    \"11\", colormap=\"Reds\", alpha=0.05, colorbar_format=\"{x:.2f}\"\n",
    ")\n",
    "res.plot_principal_stress_vectors(\n",
    "    \"22\", colormap=\"Blues_r\", alpha=0.05, colorbar_format=\"{x:.2f}\"\n",
    ")\n",
    "res.plot_stress(\n",
    "    \"vm\", normalize=False, colormap=\"viridis\", alpha=0.05, colorbar_format=\"{x:.2f}\"\n",
    ")"
   ]
  }
 ],
 "metadata": {
  "kernelspec": {
   "display_name": "Python 3 (ipykernel)",
   "language": "python",
   "name": "python3"
  },
  "language_info": {
   "codemirror_mode": {
    "name": "ipython",
    "version": 3
   },
   "file_extension": ".py",
   "mimetype": "text/x-python",
   "name": "python",
   "nbconvert_exporter": "python",
   "pygments_lexer": "ipython3",
   "version": "3.10.13"
  }
 },
 "nbformat": 4,
 "nbformat_minor": 5
}
